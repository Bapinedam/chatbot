{
 "cells": [
  {
   "cell_type": "code",
   "execution_count": 1,
   "metadata": {},
   "outputs": [],
   "source": [
    "import openai\n",
    "from dotenv import dotenv_values"
   ]
  },
  {
   "cell_type": "code",
   "execution_count": 3,
   "metadata": {},
   "outputs": [],
   "source": [
    "config = dotenv_values(\"../.env\")\n",
    "openai.api_key = config[\"OPENAI_API_KEY\"]"
   ]
  },
  {
   "cell_type": "code",
   "execution_count": 16,
   "metadata": {},
   "outputs": [],
   "source": [
    "messages = []\n",
    "user_input = input(\"You: \")\n",
    "# Appending the inputs\n",
    "messages.append({'role': 'user', 'content': user_input})\n",
    "response = openai.chat.completions.create(\n",
    "        model=\"gpt-3.5-turbo\", \n",
    "        messages=messages,\n",
    "        max_tokens=200\n",
    ")"
   ]
  },
  {
   "cell_type": "code",
   "execution_count": 21,
   "metadata": {},
   "outputs": [
    {
     "data": {
      "text/plain": [
       "[{'role': 'user', 'content': 'how can I start to write a bllog?'}]"
      ]
     },
     "execution_count": 21,
     "metadata": {},
     "output_type": "execute_result"
    }
   ],
   "source": [
    "messages"
   ]
  },
  {
   "cell_type": "code",
   "execution_count": 22,
   "metadata": {},
   "outputs": [
    {
     "name": "stdout",
     "output_type": "stream",
     "text": [
      "[{'role': 'user', 'content': 'how can I start to write a bllog?'}, {'role': 'assistant', 'content': \"Starting a blog can be an exciting and fulfilling endeavor. Here are a few steps to help you get started:\\n\\n1. Choose Your Blogging Platform: Decide on a blogging platform that suits your needs. Popular options include WordPress, Blogger, and Wix. These platforms can provide templates and easy-to-use interfaces for beginners.\\n\\n2. Select Your Blog Topic: Determine the topic or niche you want to focus on. Choose something you're passionate about, as this will make it easier to create content consistently. Whether it's travel, fashion, food, or personal experiences, narrow down your focus.\\n\\n3. Define Your Target Audience: Consider who your target audience will be. Identify their interests, age group, and preferences. Tailor your content to meet their needs and provide value.\\n\\n4. Brainstorm Content Ideas: Create a list of potential blog topics and posts. This will help you stay organized and plan your content in advance. Consider using mind maps and brainstorming sessions to generate ideas.\\n\\n5. Create\"}]\n"
     ]
    }
   ],
   "source": [
    "# Appending the answers from GPT\n",
    "messages.append({\n",
    "                'role': response.choices[0].message.role,\n",
    "                'content': response.choices[0].message.content}\n",
    "                )\n",
    "print(messages)"
   ]
  },
  {
   "cell_type": "code",
   "execution_count": 23,
   "metadata": {},
   "outputs": [
    {
     "name": "stdout",
     "output_type": "stream",
     "text": [
      "Starting a blog can be an exciting and fulfilling endeavor. Here are a few steps to help you get started:\n",
      "\n",
      "1. Choose Your Blogging Platform: Decide on a blogging platform that suits your needs. Popular options include WordPress, Blogger, and Wix. These platforms can provide templates and easy-to-use interfaces for beginners.\n",
      "\n",
      "2. Select Your Blog Topic: Determine the topic or niche you want to focus on. Choose something you're passionate about, as this will make it easier to create content consistently. Whether it's travel, fashion, food, or personal experiences, narrow down your focus.\n",
      "\n",
      "3. Define Your Target Audience: Consider who your target audience will be. Identify their interests, age group, and preferences. Tailor your content to meet their needs and provide value.\n",
      "\n",
      "4. Brainstorm Content Ideas: Create a list of potential blog topics and posts. This will help you stay organized and plan your content in advance. Consider using mind maps and brainstorming sessions to generate ideas.\n",
      "\n",
      "5. Create\n"
     ]
    }
   ],
   "source": [
    "print(response.choices[0].message.content)"
   ]
  },
  {
   "cell_type": "code",
   "execution_count": null,
   "metadata": {},
   "outputs": [],
   "source": []
  }
 ],
 "metadata": {
  "kernelspec": {
   "display_name": "chatbot",
   "language": "python",
   "name": "python3"
  },
  "language_info": {
   "codemirror_mode": {
    "name": "ipython",
    "version": 3
   },
   "file_extension": ".py",
   "mimetype": "text/x-python",
   "name": "python",
   "nbconvert_exporter": "python",
   "pygments_lexer": "ipython3",
   "version": "3.10.13"
  }
 },
 "nbformat": 4,
 "nbformat_minor": 2
}
